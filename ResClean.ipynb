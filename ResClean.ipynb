{
 "cells": [
  {
   "cell_type": "code",
   "execution_count": 32,
   "metadata": {},
   "outputs": [],
   "source": [
    "import pandas as pd\n",
    "import numpy as np\n",
    "import re"
   ]
  },
  {
   "cell_type": "code",
   "execution_count": 33,
   "metadata": {},
   "outputs": [
    {
     "data": {
      "text/html": [
       "<div>\n",
       "<style scoped>\n",
       "    .dataframe tbody tr th:only-of-type {\n",
       "        vertical-align: middle;\n",
       "    }\n",
       "\n",
       "    .dataframe tbody tr th {\n",
       "        vertical-align: top;\n",
       "    }\n",
       "\n",
       "    .dataframe thead th {\n",
       "        text-align: right;\n",
       "    }\n",
       "</style>\n",
       "<table border=\"1\" class=\"dataframe\">\n",
       "  <thead>\n",
       "    <tr style=\"text-align: right;\">\n",
       "      <th></th>\n",
       "      <th>SERVICE_NAME</th>\n",
       "      <th>DESCRIPTION</th>\n",
       "      <th>STREET_UNIT_NO</th>\n",
       "      <th>STREET_ST_ADDRESS</th>\n",
       "      <th>STREET_SUBURB</th>\n",
       "      <th>STREET_PCODE</th>\n",
       "      <th>STREET_STATE</th>\n",
       "      <th>MAIN_PH_NUM</th>\n",
       "      <th>MAIN_FAX_NUM</th>\n",
       "      <th>WEBSITE</th>\n",
       "      <th>PARTICULAR_NEED_SERVICES</th>\n",
       "    </tr>\n",
       "  </thead>\n",
       "  <tbody>\n",
       "    <tr>\n",
       "      <th>0</th>\n",
       "      <td>Juniper Cygnet</td>\n",
       "      <td>Juniper Cygnet located on, the Juniper Rowetho...</td>\n",
       "      <td>NaN</td>\n",
       "      <td>4-10 HAYMAN Road</td>\n",
       "      <td>BENTLEY</td>\n",
       "      <td>6102.0</td>\n",
       "      <td>WA</td>\n",
       "      <td>+611300313000</td>\n",
       "      <td>+610892400329</td>\n",
       "      <td>www.juniper.org.au</td>\n",
       "      <td>Focus on socially and financially disadvantage...</td>\n",
       "    </tr>\n",
       "    <tr>\n",
       "      <th>3</th>\n",
       "      <td>Blue Care Labrador Aged Care Facility</td>\n",
       "      <td>Aged Care Residential Facility</td>\n",
       "      <td>NaN</td>\n",
       "      <td>83 MUIR Street</td>\n",
       "      <td>LABRADOR</td>\n",
       "      <td>4215.0</td>\n",
       "      <td>QLD</td>\n",
       "      <td>+611800838929</td>\n",
       "      <td>NaN</td>\n",
       "      <td>http://www.bluecare.org.au</td>\n",
       "      <td>Focus on socially and financially disadvantage...</td>\n",
       "    </tr>\n",
       "    <tr>\n",
       "      <th>5</th>\n",
       "      <td>RSL Care Bolton Point - Macquarie Shores</td>\n",
       "      <td>NaN</td>\n",
       "      <td>NaN</td>\n",
       "      <td>12 The Ridgeway</td>\n",
       "      <td>BOLTON POINT</td>\n",
       "      <td>2283.0</td>\n",
       "      <td>NSW</td>\n",
       "      <td>+610249503933</td>\n",
       "      <td>+610249593498</td>\n",
       "      <td>http://www.rslcare.com.au/bolton-point</td>\n",
       "      <td>NaN</td>\n",
       "    </tr>\n",
       "    <tr>\n",
       "      <th>6</th>\n",
       "      <td>RSL Care Bolton Point - Macquarie Shores</td>\n",
       "      <td>NaN</td>\n",
       "      <td>NaN</td>\n",
       "      <td>12 The Ridgeway</td>\n",
       "      <td>BOLTON POINT</td>\n",
       "      <td>2283.0</td>\n",
       "      <td>NSW</td>\n",
       "      <td>+610249503933</td>\n",
       "      <td>+610249593498</td>\n",
       "      <td>http://www.rslcare.com.au/bolton-point</td>\n",
       "      <td>Caters for cultural, spiritual or ethical food...</td>\n",
       "    </tr>\n",
       "    <tr>\n",
       "      <th>9</th>\n",
       "      <td>Ark Health Care Bankstown</td>\n",
       "      <td>NaN</td>\n",
       "      <td>NaN</td>\n",
       "      <td>1A HIXSON Street</td>\n",
       "      <td>BANKSTOWN</td>\n",
       "      <td>2200.0</td>\n",
       "      <td>NSW</td>\n",
       "      <td>+610297919609</td>\n",
       "      <td>+610297915609</td>\n",
       "      <td>http://www.arkhc.com</td>\n",
       "      <td>Focus on socially and financially disadvantage...</td>\n",
       "    </tr>\n",
       "  </tbody>\n",
       "</table>\n",
       "</div>"
      ],
      "text/plain": [
       "                               SERVICE_NAME  \\\n",
       "0                            Juniper Cygnet   \n",
       "3     Blue Care Labrador Aged Care Facility   \n",
       "5  RSL Care Bolton Point - Macquarie Shores   \n",
       "6  RSL Care Bolton Point - Macquarie Shores   \n",
       "9                 Ark Health Care Bankstown   \n",
       "\n",
       "                                         DESCRIPTION STREET_UNIT_NO  \\\n",
       "0  Juniper Cygnet located on, the Juniper Rowetho...            NaN   \n",
       "3                     Aged Care Residential Facility            NaN   \n",
       "5                                                NaN            NaN   \n",
       "6                                                NaN            NaN   \n",
       "9                                                NaN            NaN   \n",
       "\n",
       "    STREET_ST_ADDRESS STREET_SUBURB  STREET_PCODE STREET_STATE    MAIN_PH_NUM  \\\n",
       "0  4-10 HAYMAN Road         BENTLEY        6102.0           WA  +611300313000   \n",
       "3    83 MUIR Street        LABRADOR        4215.0          QLD  +611800838929   \n",
       "5  12 The Ridgeway     BOLTON POINT        2283.0          NSW  +610249503933   \n",
       "6  12 The Ridgeway     BOLTON POINT        2283.0          NSW  +610249503933   \n",
       "9  1A HIXSON Street       BANKSTOWN        2200.0          NSW  +610297919609   \n",
       "\n",
       "    MAIN_FAX_NUM                                 WEBSITE  \\\n",
       "0  +610892400329                      www.juniper.org.au   \n",
       "3            NaN              http://www.bluecare.org.au   \n",
       "5  +610249593498  http://www.rslcare.com.au/bolton-point   \n",
       "6  +610249593498  http://www.rslcare.com.au/bolton-point   \n",
       "9  +610297915609                    http://www.arkhc.com   \n",
       "\n",
       "                            PARTICULAR_NEED_SERVICES  \n",
       "0  Focus on socially and financially disadvantage...  \n",
       "3  Focus on socially and financially disadvantage...  \n",
       "5                                                NaN  \n",
       "6  Caters for cultural, spiritual or ethical food...  \n",
       "9  Focus on socially and financially disadvantage...  "
      ]
     },
     "execution_count": 33,
     "metadata": {},
     "output_type": "execute_result"
    }
   ],
   "source": [
    "rdf = pd.read_csv(\"./data/Aged-Care-Homes-June-2018.csv\")\n",
    "\n",
    "omit_col = ['ALT_NAME', 'PREVIOUS_NAME', 'LOCAL_NAME',\n",
    "       'COMMGOVT_SUBSIDISED', 'BUS_UNIT_NO', 'BUS_ST_ADDRESS', 'BUS_SUBURB', 'BUS_PCODE', 'BUS_STATE',\n",
    "       'MAIN_EMAIL_ADDR', 'SERVICE_TYPE', 'ABN', 'APPROVED_PROVIDER', 'ACCREDITATION',\n",
    "       'ACCREDITATION_PERIOD', 'CERTIFICATION', 'NOTICE_OF_SANCTION',\n",
    "       'NOTICE_OF_NON_COMPLIANCE', 'AVAILABILITY', 'ROOM_TITLE', 'ROOM_NAME', 'ROOM_TYPE', 'MAX_ROOM_OCCUPANCY',\n",
    "       'NUM_OF_ROOM_TYPES', 'MAX_RAD', 'MAX_DAP', 'PAYMENT_OPTIONS',\n",
    "       'PAYMENT_EXAMPLE', 'ROOM_DESC', 'ROOM_SIZE', 'COMMON_AREA_DESC',\n",
    "       'ADDITIONAL_CARE_INCL', 'ADDITIONAL_CARE_COST',\n",
    "       'EXTRA_SERVICE', 'EXTRA_SERVICE_FEE_AMOUNT', 'SPECIFIC_FEATURES']\n",
    "\n",
    "rdf.drop(labels=omit_col, axis=1, inplace=True)\n",
    "rdf.drop_duplicates(inplace=True)\n",
    "rdf.head()"
   ]
  },
  {
   "cell_type": "code",
   "execution_count": 34,
   "metadata": {},
   "outputs": [
    {
     "data": {
      "text/plain": [
       "(5070, 17)"
      ]
     },
     "execution_count": 34,
     "metadata": {},
     "output_type": "execute_result"
    }
   ],
   "source": [
    "def special_serv():\n",
    "    col_names = [\"sfd\", \"dem\", \"atsi\", \"terminal\", \"veteran\", \"cald\", \"lgbti\"]\n",
    "    search_term = [\"financially disadvantaged\", \"dementia\", \"ATSI\", \"terminal illness\", \"veterans\", \"CALD backgrounds\", \"LGBTI\"]\n",
    "    for ix, col in enumerate(col_names):\n",
    "        pattern = re.compile(search_term[ix])\n",
    "        bool_list = [False] * rdf.shape[0]\n",
    "        for rdf_ix, service_string in enumerate(rdf[\"PARTICULAR_NEED_SERVICES\"]):\n",
    "            try:\n",
    "                if pattern.search(service_string):\n",
    "                    bool_list[rdf_ix] = True\n",
    "            except TypeError:\n",
    "                pass\n",
    "        rdf[col] = bool_list\n",
    "    rdf.drop(\"PARTICULAR_NEED_SERVICES\", axis=1, inplace=True)\n",
    "special_serv()\n",
    "rdf.shape"
   ]
  },
  {
   "cell_type": "code",
   "execution_count": 39,
   "metadata": {},
   "outputs": [
    {
     "data": {
      "text/plain": [
       "(2863, 17)"
      ]
     },
     "execution_count": 39,
     "metadata": {},
     "output_type": "execute_result"
    }
   ],
   "source": [
    "def remove_illegals(desc):\n",
    "    try:\n",
    "        return re.sub(pattern=r'\\’|\\é',repl='',string=desc)\n",
    "    except TypeError:\n",
    "        return \"\"\n",
    "\n",
    "rdf[\"DESCRIPTION\"] = rdf[\"DESCRIPTION\"].apply(remove_illegals)\n",
    "\n",
    "rdf.drop_duplicates(subset=[\"SERVICE_NAME\"], inplace=True)\n",
    "rdf.shape"
   ]
  },
  {
   "cell_type": "code",
   "execution_count": 40,
   "metadata": {},
   "outputs": [],
   "source": [
    "rdf.to_csv(\"./data/clean/residential_basic.csv\")"
   ]
  }
 ],
 "metadata": {
  "kernelspec": {
   "display_name": "Python 3",
   "language": "python",
   "name": "python3"
  },
  "language_info": {
   "codemirror_mode": {
    "name": "ipython",
    "version": 3
   },
   "file_extension": ".py",
   "mimetype": "text/x-python",
   "name": "python",
   "nbconvert_exporter": "python",
   "pygments_lexer": "ipython3",
   "version": "3.6.4"
  }
 },
 "nbformat": 4,
 "nbformat_minor": 2
}
